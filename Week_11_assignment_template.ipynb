{
  "nbformat": 4,
  "nbformat_minor": 0,
  "metadata": {
    "colab": {
      "provenance": [],
      "toc_visible": true,
      "include_colab_link": true
    },
    "kernelspec": {
      "name": "python3",
      "display_name": "Python 3"
    },
    "language_info": {
      "name": "python"
    }
  },
  "cells": [
    {
      "cell_type": "markdown",
      "metadata": {
        "id": "view-in-github",
        "colab_type": "text"
      },
      "source": [
        "<a href=\"https://colab.research.google.com/github/bolinsbj/gis-project-portfolio-geo441-541b/blob/main/Week_11_assignment_template.ipynb\" target=\"_parent\"><img src=\"https://colab.research.google.com/assets/colab-badge.svg\" alt=\"Open In Colab\"/></a>"
      ]
    },
    {
      "cell_type": "markdown",
      "source": [
        "## **GEO 441B/541B Week 11 Assignment: Extra Credit**"
      ],
      "metadata": {
        "id": "C0ymCPR5aSHN"
      }
    },
    {
      "cell_type": "markdown",
      "source": [
        "🚀 Created by Blake Bolinski\n",
        "\n",
        "11/6/2024"
      ],
      "metadata": {
        "id": "Pt_OREXFPvkr"
      }
    },
    {
      "cell_type": "markdown",
      "source": [
        "### **Create a 2.5D Map**\n",
        "\n",
        "- Click **`File/Save a copy in Drive`** to save a copy of this notebook to my own Google Drive\n",
        "\n",
        "**Overview**\n",
        "- create an ARCgis project for this assignment\n",
        "- Add extrusion for 2D building footprint polygon in a local scene\n",
        "- Covert to a 3d feature and edit to change texture using the photos provided\n",
        "\n",
        "**Information on Historical Building**\n",
        "* Block number: 205\n",
        "* Lot number: 14, 16, 18\n",
        "*Building Number: 14, 16, 18\n",
        "*Height in Feet:\n",
        "14=17.41ft\n",
        "16 = 46.47ft\n",
        "18 = 13.39ft\n",
        "Sanborn Floor Number (if number):\n",
        "14 = 1 floor\n",
        "16 = 5 floors\n",
        "18 = 1 floor\n",
        "\n"
      ],
      "metadata": {
        "id": "CMQN_pgaHVLO"
      }
    },
    {
      "cell_type": "markdown",
      "source": [
        "https://drive.google.com/uc?export=view&id=1ASqNaCbBZl_u9ufxjL1Q4bbzgbazzgBI\n",
        "\n",
        "\n",
        "\n",
        "\n",
        "\n",
        " **Map**\n",
        "\n",
        "   ![Map](https://drive.google.com/uc?export=view&id=1ASqNaCbBZl_u9ufxjL1Q4bbzgbazzgBI) <!-- Example Image Placeholder -->"
      ],
      "metadata": {
        "id": "WVs4J1jQbESU"
      }
    },
    {
      "cell_type": "markdown",
      "source": [
        "\n",
        "  "
      ],
      "metadata": {
        "id": "i4RTLellbUh7"
      }
    },
    {
      "cell_type": "markdown",
      "source": [],
      "metadata": {
        "id": "kkgukjDcXsqC"
      }
    },
    {
      "cell_type": "markdown",
      "source": [],
      "metadata": {
        "id": "fvMbEX89YLeY"
      }
    }
  ]
}